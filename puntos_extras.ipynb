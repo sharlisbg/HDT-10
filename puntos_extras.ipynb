{
 "cells": [
  {
   "cell_type": "code",
   "execution_count": null,
   "metadata": {},
   "outputs": [
    {
     "ename": "",
     "evalue": "",
     "output_type": "error",
     "traceback": [
      "\u001b[1;31mRunning cells with 'c:\\Users\\Sharis Barrios\\AppData\\Local\\Microsoft\\WindowsApps\\python3.9.exe' requires the ipykernel package.\n",
      "\u001b[1;31mRun the following command to install 'ipykernel' into the Python environment. \n",
      "\u001b[1;31mCommand: '\"c:/Users/Sharis Barrios/AppData/Local/Microsoft/WindowsApps/python3.9.exe\" -m pip install ipykernel -U --user --force-reinstall'"
     ]
    }
   ],
   "source": [
    "import networkx as nx\n",
    "\n",
    "class FloydWarshall:\n",
    "\n",
    "    def __init__(self, graph):\n",
    "        self.graph = graph.copy()\n",
    "        self.size = len(graph.nodes)\n",
    "        self.distances = nx.floyd_warshall_numpy(graph)\n",
    "        self.paths = nx.floyd_warshall_predecessor_and_distance(graph)\n",
    "\n",
    "    def calculate_routes(self):\n",
    "        self.distances = nx.floyd_warshall_numpy(self.graph)\n",
    "        self.paths = nx.floyd_warshall_predecessor_and_distance(self.graph)\n",
    "\n",
    "    def calculate_graph_center(self):\n",
    "        max_distances = []\n",
    "        for node in self.graph.nodes:\n",
    "            max_distance = max(self.distances[node].values())\n",
    "            max_distances.append(max_distance)\n",
    "        min_max_distance = min(max_distances)\n",
    "        center_node = max_distances.index(min_max_distance)\n",
    "        return list(self.graph.nodes)[center_node]\n",
    "\n",
    "\n",
    "# Ejemplo de uso\n",
    "# Crear el grafo\n",
    "graph = nx.Graph()\n",
    "graph.add_nodes_from([\"A\", \"B\", \"C\", \"D\"])\n",
    "graph.add_edges_from([(\"A\", \"B\"), (\"A\", \"C\"), (\"B\", \"C\"), (\"B\", \"D\"), (\"C\", \"D\")])\n",
    "\n",
    "# Crear la instancia de FloydWarshall\n",
    "fw = FloydWarshall(graph)\n",
    "\n",
    "# Calcular las rutas más cortas\n",
    "fw.calculate_routes()\n",
    "\n",
    "# Obtener el centro del grafo\n",
    "center = fw.calculate_graph_center()\n",
    "print(\"El centro del grafo es el nodo:\", center)\n",
    "\n"
   ]
  }
 ],
 "metadata": {
  "kernelspec": {
   "display_name": "Python 3",
   "language": "python",
   "name": "python3"
  },
  "language_info": {
   "name": "python",
   "version": "3.9.13"
  },
  "orig_nbformat": 4
 },
 "nbformat": 4,
 "nbformat_minor": 2
}
